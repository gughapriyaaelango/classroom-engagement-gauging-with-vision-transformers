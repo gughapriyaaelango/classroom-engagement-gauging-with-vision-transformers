{
  "nbformat": 4,
  "nbformat_minor": 2,
  "metadata": {
    "colab": {
      "name": "Untitled0.ipynb",
      "provenance": []
    },
    "kernelspec": {
      "name": "python3",
      "display_name": "Python 3.8.5 64-bit ('pytorch': conda)"
    },
    "language_info": {
      "name": "python",
      "version": "3.8.5"
    },
    "accelerator": "GPU",
    "interpreter": {
      "hash": "f07d5c506dc792c1d17042ce6d63d3539913070c7203ee1d707a2b2ce1ee992d"
    }
  },
  "cells": [
    {
      "cell_type": "code",
      "execution_count": 3,
      "source": [
        "import torch\r\n",
        "import torch.nn as nn\r\n",
        "import torch.nn.functional as F\r\n",
        "from torch.utils.data import Dataset, DataLoader\r\n",
        "from torchvision import transforms, datasets\r\n",
        "from torch import optim\r\n",
        "from PIL import Image\r\n",
        "import numpy as np\r\n",
        "import random\r\n",
        "import os\r\n",
        "import pycm"
      ],
      "outputs": [],
      "metadata": {
        "id": "gnATQzpibZUz"
      }
    },
    {
      "cell_type": "code",
      "execution_count": 4,
      "source": [
        "# configurations\r\n",
        "path = \"/content/wacv2016-master/dataset\"\r\n",
        "path_dest = \"/content/samples\"\r\n",
        "split = 0.8\r\n",
        "batch_size = 16\r\n",
        "seed = 999\r\n",
        "n_samples = [228, 412, 412]"
      ],
      "outputs": [],
      "metadata": {
        "id": "p0kcq2CcbfBW"
      }
    },
    {
      "cell_type": "code",
      "execution_count": 6,
      "source": [
        "# ResNet-18\r\n",
        "# in_channels = 1, n_classes = 3, input_shape = b * 1 * 100 * 100\r\n",
        "class ResidualBlock(nn.Module):\r\n",
        "    def __init__(self, inCh, outCh, stride):\r\n",
        "        super(ResidualBlock, self).__init__()\r\n",
        "        self.left = nn.Sequential(\r\n",
        "            nn.Conv2d(in_channels=inCh, out_channels=outCh, \r\n",
        "                            kernel_size=3, padding=1, stride=stride),\r\n",
        "            nn.BatchNorm2d(outCh),\r\n",
        "            nn.ReLU(inplace=True),\r\n",
        "            nn.Conv2d(in_channels=outCh, out_channels=outCh, \r\n",
        "                            kernel_size=3, padding=1, stride=1),\r\n",
        "            nn.BatchNorm2d(outCh)\r\n",
        "        )\r\n",
        "\r\n",
        "        self.shortcut = nn.Sequential()\r\n",
        "        if stride != 1 or inCh != outCh:\r\n",
        "            self.shortcut = nn.Sequential(\r\n",
        "                nn.Conv2d(in_channels=inCh, out_channels=outCh, \r\n",
        "                            kernel_size=1, stride=stride),\r\n",
        "                nn.BatchNorm2d(outCh)\r\n",
        "            )\r\n",
        "\r\n",
        "    def forward(self, x):\r\n",
        "        out = self.left(x)\r\n",
        "        out += self.shortcut(x)\r\n",
        "        out = F.relu(out)\r\n",
        "        return out\r\n",
        "\r\n",
        "\r\n",
        "class ResNet18(nn.Module):\r\n",
        "    def __init__(self, classes=10):\r\n",
        "        super(ResNet18, self).__init__()\r\n",
        "        self.classes = classes\r\n",
        "        self.conv1 = nn.Sequential(\r\n",
        "            nn.Conv2d(in_channels=1, out_channels=64, kernel_size=3, padding=1, stride=1),\r\n",
        "            nn.BatchNorm2d(64),\r\n",
        "            nn.ReLU(inplace=True)\r\n",
        "        )\r\n",
        "        self.layer_1 = self.make_layer(ResidualBlock, 64, 64, stride=1)\r\n",
        "        self.layer_2 = self.make_layer(ResidualBlock, 64, 128, stride=2)\r\n",
        "        self.layer_3 = self.make_layer(ResidualBlock, 128, 256, stride=2)\r\n",
        "        self.layer_4 = self.make_layer(ResidualBlock, 256, 512, stride=2)\r\n",
        "        self.avgpool = nn.AvgPool2d((3, 3), stride=2)\r\n",
        "        self.fc = nn.Linear(512 * 6 * 6, self.classes)\r\n",
        "        \r\n",
        "    def forward(self, x):\r\n",
        "        x = self.conv1(x)\r\n",
        "        x = self.layer_1(x)\r\n",
        "        x = self.layer_2(x)\r\n",
        "        x = self.layer_3(x)\r\n",
        "        x = self.layer_4(x)\r\n",
        "        x = self.avgpool(x)\r\n",
        "        x = x.view(-1, 512*6*6)\r\n",
        "        x = self.fc(x)\r\n",
        "        return x\r\n",
        "\r\n",
        "    def make_layer(self, block, inCh, outCh, stride, block_num=2):\r\n",
        "        layers = []\r\n",
        "        layers.append(block(inCh, outCh, stride))\r\n",
        "        for i in range(block_num - 1):\r\n",
        "            layers.append(block(outCh, outCh, 1))\r\n",
        "        return nn.Sequential(*layers)"
      ],
      "outputs": [],
      "metadata": {
        "id": "wjziryQxba_5"
      }
    },
    {
      "cell_type": "code",
      "execution_count": null,
      "source": [
        "# generate samples\r\n",
        "# use provided samples.zip or run this cell to generate samples from wacv2016-master\r\n",
        "os.mkdir(path_dest)\r\n",
        "file_num = []\r\n",
        "for i in range(1, 4):\r\n",
        "    j = 0\r\n",
        "    for file in os.listdir(os.path.join(path, str(i))):\r\n",
        "        img = Image.open(os.path.join(path, str(i), file))\r\n",
        "        if j < 412:\r\n",
        "            if img.size[0] == 100 and img.size[1] == 100 and len(img.size) == 2:\r\n",
        "                j += 1\r\n",
        "                img.save(os.path.join(path_dest, \"{}_{}.jpg\".format(i-1, j)))\r\n",
        "        else:\r\n",
        "            break\r\n",
        "    file_num.append(j)\r\n",
        "print(file_num)"
      ],
      "outputs": [],
      "metadata": {
        "id": "H0MRUiNmzpmg"
      }
    },
    {
      "cell_type": "code",
      "execution_count": 8,
      "source": [
        "# dataset split\r\n",
        "random.seed(seed)\r\n",
        "file_list = []\r\n",
        "for i, n in enumerate(n_samples):\r\n",
        "  for j in range(n):\r\n",
        "    file_list.append(\"{}_{}.jpg\".format(i, j+1))\r\n",
        "random.shuffle(file_list)\r\n",
        "train_list = file_list[:int(split * len(file_list))]\r\n",
        "val_list = file_list[int(split * len(file_list)):]"
      ],
      "outputs": [],
      "metadata": {
        "id": "rOuIuhHjjfJT"
      }
    },
    {
      "cell_type": "code",
      "execution_count": 9,
      "source": [
        "# dataset class\r\n",
        "class WACV2016(Dataset):\r\n",
        "    def __init__(self, path, file_list):\r\n",
        "        super().__init__()\r\n",
        "        self.trans = transforms.Compose([\r\n",
        "            transforms.RandomHorizontalFlip(),\r\n",
        "            transforms.ToTensor()\r\n",
        "        ])\r\n",
        "        self.path = path\r\n",
        "        self.file_names = file_list\r\n",
        "\r\n",
        "    def __len__(self):\r\n",
        "        return len(self.file_names)\r\n",
        "\r\n",
        "    def __getitem__(self, index):\r\n",
        "        img = Image.open(os.path.join(self.path, self.file_names[index]))\r\n",
        "        label = int(self.file_names[index].split(\".\")[0].split(\"_\")[0])\r\n",
        "        return self.trans(img), label"
      ],
      "outputs": [],
      "metadata": {
        "id": "1-hDScSmbiaF"
      }
    },
    {
      "cell_type": "code",
      "execution_count": 10,
      "source": [
        "# ...\r\n",
        "train_set = WACV2016(path_dest, train_list)\r\n",
        "train_loader = DataLoader(train_set, batch_size=batch_size, shuffle=True)\r\n",
        "val_set = WACV2016(path_dest, val_list)\r\n",
        "val_loader = DataLoader(val_set, batch_size=1, shuffle=False)\r\n",
        "\r\n",
        "model = ResNet18(classes=3)\r\n",
        "model = model.cuda()\r\n",
        "citeration = nn.CrossEntropyLoss()\r\n",
        "optimizer = optim.Adam(model.parameters(), lr=1e-5)"
      ],
      "outputs": [],
      "metadata": {
        "id": "pGnmUF3GblRa"
      }
    },
    {
      "cell_type": "code",
      "execution_count": 11,
      "source": [
        "# training\r\n",
        "model.train()\r\n",
        "for epoch in range(10):\r\n",
        "    train_loss = 0\r\n",
        "    train_acc = 0\r\n",
        "    for i, (image, label) in enumerate(train_loader):\r\n",
        "        image, label = image.cuda(), label.cuda()\r\n",
        "        optimizer.zero_grad()\r\n",
        "        # forward\r\n",
        "        output = model(image)\r\n",
        "        loss = citeration(output, label.long())\r\n",
        "        pred = torch.torch.argmax(output, 1)\r\n",
        "        acc = (pred == label).sum() / batch_size\r\n",
        "        train_loss += loss.item()\r\n",
        "        train_acc += acc.cpu().numpy()\r\n",
        "        # backward\r\n",
        "        loss.backward()\r\n",
        "        optimizer.step()\r\n",
        "    print(\"Epoch: {}  Loss: {}  Acc: {}\".format(\r\n",
        "        epoch+1, train_loss/len(train_loader), train_acc/len(train_loader)))"
      ],
      "outputs": [
        {
          "output_type": "stream",
          "name": "stdout",
          "text": [
            "Epoch: 1  Loss: 0.9122743381644195  Acc: 0.5471698113207547\n",
            "Epoch: 2  Loss: 0.696253665213315  Acc: 0.7122641509433962\n",
            "Epoch: 3  Loss: 0.5961268611674039  Acc: 0.7441037735849056\n",
            "Epoch: 4  Loss: 0.5217366179205337  Acc: 0.8030660377358491\n",
            "Epoch: 5  Loss: 0.46469194259283675  Acc: 0.8183962264150944\n",
            "Epoch: 6  Loss: 0.4311690150566821  Acc: 0.8466981132075472\n",
            "Epoch: 7  Loss: 0.3738851797468257  Acc: 0.8667452830188679\n",
            "Epoch: 8  Loss: 0.33556254461126506  Acc: 0.8856132075471698\n",
            "Epoch: 9  Loss: 0.31994410393373024  Acc: 0.9009433962264151\n",
            "Epoch: 10  Loss: 0.2594420344762082  Acc: 0.9327830188679245\n"
          ]
        }
      ],
      "metadata": {
        "colab": {
          "base_uri": "https://localhost:8080/"
        },
        "id": "ctfVwgApboLl",
        "outputId": "6c3a7cf6-dfed-4a0c-e105-027e7a1d199e"
      }
    },
    {
      "cell_type": "code",
      "execution_count": 12,
      "source": [
        "# validation\r\n",
        "model.eval()\r\n",
        "y_pred = []\r\n",
        "y_true = []\r\n",
        "for i, (image, label) in enumerate(val_loader):\r\n",
        "        image, label = image.cuda(), label.cuda()\r\n",
        "        # forward\r\n",
        "        output = model(image)\r\n",
        "        pred = torch.argmax(output, 1).unsqueeze(0)\r\n",
        "        y_pred.append(int(pred.cpu().numpy()))\r\n",
        "        y_true.append(int(label.unsqueeze(0).cpu().numpy()))\r\n",
        "print(y_pred)\r\n",
        "print(y_true)"
      ],
      "outputs": [
        {
          "output_type": "stream",
          "name": "stdout",
          "text": [
            "[1, 1, 2, 1, 2, 2, 1, 2, 0, 0, 2, 2, 1, 1, 1, 2, 1, 2, 2, 1, 2, 2, 2, 2, 2, 1, 1, 2, 1, 2, 1, 2, 2, 2, 2, 2, 2, 1, 1, 2, 1, 1, 0, 1, 0, 2, 0, 2, 2, 2, 2, 2, 0, 1, 1, 2, 2, 1, 2, 1, 2, 1, 1, 1, 2, 2, 2, 2, 2, 0, 0, 2, 1, 2, 0, 2, 2, 1, 1, 1, 2, 1, 0, 1, 2, 2, 1, 0, 2, 1, 2, 0, 2, 2, 1, 0, 2, 1, 2, 1, 0, 1, 2, 2, 1, 2, 0, 2, 2, 1, 2, 2, 0, 1, 2, 2, 2, 1, 1, 1, 0, 2, 2, 2, 0, 2, 1, 1, 0, 1, 2, 1, 2, 0, 1, 1, 2, 2, 2, 1, 1, 0, 1, 1, 2, 1, 0, 0, 2, 0, 1, 0, 0, 2, 1, 2, 2, 0, 0, 2, 2, 0, 2, 2, 1, 1, 1, 2, 1, 2, 2, 1, 1, 1, 2, 2, 0, 2, 1, 0, 1, 1, 2, 2, 1, 1, 2, 0, 1, 1, 2, 1, 2, 2, 0, 2, 0, 2, 1, 1, 2, 0, 1, 1, 1, 0, 1, 1, 2, 2, 0]\n",
            "[1, 2, 2, 0, 2, 2, 1, 2, 0, 0, 1, 2, 2, 1, 1, 1, 1, 2, 0, 1, 1, 2, 2, 1, 2, 1, 1, 1, 2, 2, 1, 2, 2, 2, 1, 2, 1, 2, 1, 1, 2, 1, 0, 2, 0, 1, 0, 1, 2, 1, 2, 2, 1, 1, 0, 2, 2, 1, 1, 0, 1, 1, 2, 1, 2, 2, 1, 2, 2, 0, 0, 2, 1, 2, 0, 1, 1, 1, 1, 0, 1, 1, 0, 1, 2, 2, 1, 0, 1, 1, 1, 0, 2, 2, 2, 0, 2, 1, 2, 2, 0, 2, 2, 2, 1, 2, 0, 2, 2, 2, 1, 2, 0, 1, 2, 2, 1, 2, 1, 1, 0, 2, 2, 2, 0, 1, 1, 2, 0, 1, 1, 0, 2, 0, 2, 1, 2, 1, 1, 1, 1, 0, 1, 2, 1, 0, 0, 0, 2, 0, 1, 0, 0, 2, 1, 1, 2, 1, 0, 2, 2, 0, 2, 2, 0, 1, 1, 2, 1, 2, 2, 1, 1, 2, 2, 2, 0, 2, 1, 0, 2, 0, 2, 2, 1, 2, 2, 0, 1, 2, 1, 1, 2, 1, 0, 1, 0, 2, 1, 2, 1, 0, 1, 1, 1, 0, 2, 1, 2, 2, 0]\n"
          ]
        }
      ],
      "metadata": {
        "colab": {
          "base_uri": "https://localhost:8080/"
        },
        "id": "A3tAIOu_0LTK",
        "outputId": "184211bf-22c4-4ec2-e2ca-7bf3762937df"
      }
    },
    {
      "cell_type": "code",
      "execution_count": 13,
      "source": [
        "cm = pycm.ConfusionMatrix(y_true, y_pred, digit=5)"
      ],
      "outputs": [],
      "metadata": {
        "id": "RSFt3-Wync2g"
      }
    },
    {
      "cell_type": "code",
      "execution_count": 14,
      "source": [
        "cm.ACC"
      ],
      "outputs": [
        {
          "output_type": "execute_result",
          "data": {
            "text/plain": [
              "{0: 0.9478672985781991, 1: 0.7061611374407583, 2: 0.7488151658767772}"
            ]
          },
          "metadata": {
            "tags": []
          },
          "execution_count": 14
        }
      ],
      "metadata": {
        "colab": {
          "base_uri": "https://localhost:8080/"
        },
        "id": "-DGEuUgPnrT0",
        "outputId": "058a942b-68a5-4ea3-82b8-18b143e0bfde"
      }
    },
    {
      "cell_type": "code",
      "execution_count": 15,
      "source": [
        "cm.GI"
      ],
      "outputs": [
        {
          "output_type": "execute_result",
          "data": {
            "text/plain": [
              "{0: 0.7834784975503539, 1: 0.37275477405936863, 2: 0.49897292250233427}"
            ]
          },
          "metadata": {
            "tags": []
          },
          "execution_count": 15
        }
      ],
      "metadata": {
        "colab": {
          "base_uri": "https://localhost:8080/"
        },
        "id": "gEuJUofMns-6",
        "outputId": "7abccae3-e729-43a1-c4af-54fd10e68ba2"
      }
    },
    {
      "cell_type": "code",
      "execution_count": 16,
      "source": [
        "cm.AUC"
      ],
      "outputs": [
        {
          "output_type": "execute_result",
          "data": {
            "text/plain": [
              "{0: 0.891739248775177, 1: 0.6863773870296843, 2: 0.7494864612511671}"
            ]
          },
          "metadata": {
            "tags": []
          },
          "execution_count": 16
        }
      ],
      "metadata": {
        "colab": {
          "base_uri": "https://localhost:8080/"
        },
        "id": "Mt8nE0hsyfLe",
        "outputId": "323bb388-53a5-4237-9f6e-1ac4e79f9702"
      }
    },
    {
      "cell_type": "code",
      "execution_count": 17,
      "source": [
        "cm.AGF"
      ],
      "outputs": [
        {
          "output_type": "execute_result",
          "data": {
            "text/plain": [
              "{0: 0.8862388801744433, 1: 0.6756228010775738, 2: 0.7672411108987748}"
            ]
          },
          "metadata": {
            "tags": []
          },
          "execution_count": 17
        }
      ],
      "metadata": {
        "id": "etvWAYdNnw6a",
        "colab": {
          "base_uri": "https://localhost:8080/"
        },
        "outputId": "ef11370a-efbd-4744-f7a8-743eaa0696a6"
      }
    }
  ]
}