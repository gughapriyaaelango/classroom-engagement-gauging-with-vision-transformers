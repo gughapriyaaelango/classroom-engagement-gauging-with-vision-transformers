{
  "nbformat": 4,
  "nbformat_minor": 2,
  "metadata": {
    "colab": {
      "name": "Untitled0.ipynb",
      "provenance": []
    },
    "kernelspec": {
      "name": "python3",
      "display_name": "Python 3"
    },
    "language_info": {
      "name": "python"
    },
    "accelerator": "GPU"
  },
  "cells": [
    {
      "cell_type": "code",
      "execution_count": 18,
      "source": [
        "import torch\r\n",
        "import torch.nn as nn\r\n",
        "import torch.nn.functional as F\r\n",
        "from torch.utils.data import Dataset, DataLoader\r\n",
        "from torchvision import transforms, datasets\r\n",
        "from torch import optim\r\n",
        "from PIL import Image\r\n",
        "import numpy as np\r\n",
        "import random\r\n",
        "import os\r\n",
        "import math\r\n",
        "import pycm"
      ],
      "outputs": [],
      "metadata": {
        "id": "gnATQzpibZUz"
      }
    },
    {
      "cell_type": "code",
      "execution_count": 25,
      "source": [
        "# configurations\r\n",
        "path = \"/content/wacv2016-master/dataset\"\r\n",
        "path_dest = \"/content/samples\"\r\n",
        "split = 0.8\r\n",
        "batch_size = 16\r\n",
        "seed = 999\r\n",
        "n_samples = [228, 412, 412]"
      ],
      "outputs": [],
      "metadata": {
        "id": "p0kcq2CcbfBW"
      }
    },
    {
      "cell_type": "code",
      "execution_count": 26,
      "source": [
        "# DenseNet-121\r\n",
        "# in_channels = 1, n_classes = 3, input_shape = b * 1 * 100 * 100\r\n",
        "class BasicConv2d(nn.Module):\r\n",
        "    def __init__(self, ksize, inCH, outCH, stride=1, padding=0):\r\n",
        "        super(BasicConv2d, self).__init__()\r\n",
        "        self.bn = nn.BatchNorm2d(inCH)\r\n",
        "        self.conv2d = nn.Conv2d(kernel_size=ksize, in_channels=inCH,\r\n",
        "                         out_channels=outCH, stride=stride, padding=padding)\r\n",
        "\r\n",
        "    def forward(self, x):\r\n",
        "        x = self.bn(x)\r\n",
        "        x = F.relu(x)\r\n",
        "        x = self.conv2d(x)\r\n",
        "        return x\r\n",
        "\r\n",
        "\r\n",
        "class BottleNeck(nn.Module):\r\n",
        "    def __init__(self, inCH, k=32):\r\n",
        "        super(BottleNeck, self).__init__()\r\n",
        "        self.conv2d_1x1 = BasicConv2d(ksize=1, inCH=inCH, outCH=4*k)\r\n",
        "        self.conv2d_3x3 = BasicConv2d(ksize=3, inCH=4*k, outCH=k, padding=1)\r\n",
        "\r\n",
        "    def forward(self, x):\r\n",
        "        left = self.conv2d_1x1(x)\r\n",
        "        left = self.conv2d_3x3(left)\r\n",
        "        out = torch.cat([x, left], dim=1)\r\n",
        "        return out\r\n",
        "\r\n",
        "class DenseBlock(nn.Module):\r\n",
        "    def __init__(self, inCH, layernum=6, k=32):\r\n",
        "        super(DenseBlock, self).__init__()\r\n",
        "        self.layernum = layernum\r\n",
        "        self.k = k\r\n",
        "        self.inCH = inCH\r\n",
        "        self.outCH = inCH + k * layernum\r\n",
        "        self.block = self.make_layer(layernum)\r\n",
        "\r\n",
        "    def forward(self, x):\r\n",
        "        out = self.block(x)\r\n",
        "        return out\r\n",
        "\r\n",
        "    def make_layer(self, layernum):\r\n",
        "        layers = []\r\n",
        "        inchannels = self.inCH\r\n",
        "        for i in range(layernum):\r\n",
        "            layers.append(BottleNeck(inCH=inchannels, k=self.k))\r\n",
        "            inchannels += self.k\r\n",
        "        return nn.Sequential(*layers)\r\n",
        "\r\n",
        "\r\n",
        "class Transition(nn.Module):\r\n",
        "    def __init__(self, inCH, theta=0.5):\r\n",
        "        super(Transition, self).__init__()\r\n",
        "        self.outCH = int(math.floor(theta*inCH))\r\n",
        "        self.bn = nn.BatchNorm2d(inCH)\r\n",
        "        self.conv2d_1x1 = nn.Conv2d(kernel_size=1, in_channels=inCH, out_channels=self.outCH)\r\n",
        "        self.avgpool = nn.AvgPool2d((2, 2), stride=2)\r\n",
        "\r\n",
        "    def forward(self, x):\r\n",
        "        x = self.bn(x)\r\n",
        "        x = F.relu(x)\r\n",
        "        x = self.conv2d_1x1(x)\r\n",
        "        x = self.avgpool(x)\r\n",
        "        return x\r\n",
        "\r\n",
        "\r\n",
        "class DenseNet121(nn.Module):\r\n",
        "    def __init__(self, k=32, theta=0.5, classes=10):\r\n",
        "        super(DenseNet121 ,self).__init__()\r\n",
        "        self.k=k\r\n",
        "        self.theta = theta\r\n",
        "        self.pre_layer = BasicConv2d(ksize=3, inCH=1, outCH=2*self.k, padding=1)\r\n",
        "        self.DenseBlock_1 = DenseBlock(inCH=2*self.k, layernum=6, k=self.k)\r\n",
        "        self.Transition_1 = Transition(inCH=self.DenseBlock_1.outCH, theta=self.theta)\r\n",
        "        self.DenseBlock_2 = DenseBlock(inCH=self.Transition_1.outCH, layernum=12, k=self.k)\r\n",
        "        self.Transition_2 = Transition(inCH=self.DenseBlock_2.outCH, theta=self.theta)\r\n",
        "        self.DenseBlock_3 = DenseBlock(inCH=self.Transition_2.outCH, layernum=24, k=self.k)\r\n",
        "        self.Transition_3 = Transition(inCH=self.DenseBlock_3.outCH, theta=self.theta)\r\n",
        "        self.DenseBlock_4 = DenseBlock(inCH=self.Transition_3.outCH, layernum=16, k=self.k)\r\n",
        "        self.bn = nn.BatchNorm2d(self.DenseBlock_4.outCH)\r\n",
        "        self.avgpool = nn.AvgPool2d((4, 4))\r\n",
        "        self.linear = nn.Linear(self.DenseBlock_4.outCH*3*3, classes)\r\n",
        "\r\n",
        "    def forward(self, x):\r\n",
        "        x = self.pre_layer(x)\r\n",
        "        x = self.DenseBlock_1(x)\r\n",
        "        x = self.Transition_1(x)\r\n",
        "        x = self.DenseBlock_2(x)\r\n",
        "        x = self.Transition_2(x)\r\n",
        "        x = self.DenseBlock_3(x)\r\n",
        "        x = self.Transition_3(x)\r\n",
        "        x = self.DenseBlock_4(x)\r\n",
        "        x = self.bn(x)\r\n",
        "        x = F.relu(x)\r\n",
        "        x = self.avgpool(x)\r\n",
        "        x = x.view(-1, self.DenseBlock_4.outCH*3*3)\r\n",
        "        x = self.linear(x)\r\n",
        "        return x"
      ],
      "outputs": [],
      "metadata": {
        "id": "wjziryQxba_5"
      }
    },
    {
      "cell_type": "code",
      "execution_count": null,
      "source": [
        "# generate samples\n",
        "# use provided samples.zip or run this cell to generate samples from wacv2016-master\n",
        "os.mkdir(path_dest)\n",
        "file_num = []\n",
        "for i in range(1, 4):\n",
        "    j = 0\n",
        "    for file in os.listdir(os.path.join(path, str(i))):\n",
        "        img = Image.open(os.path.join(path, str(i), file))\n",
        "        if j < 412:\n",
        "            if img.size[0] == 100 and img.size[1] == 100 and len(img.size) == 2:\n",
        "                j += 1\n",
        "                img.save(os.path.join(path_dest, \"{}_{}.jpg\".format(i-1, j)))\n",
        "        else:\n",
        "            break\n",
        "    file_num.append(j)\n",
        "print(file_num)"
      ],
      "outputs": [],
      "metadata": {
        "id": "H0MRUiNmzpmg"
      }
    },
    {
      "cell_type": "code",
      "execution_count": 28,
      "source": [
        "# dataset split\n",
        "random.seed(seed)\n",
        "file_list = []\n",
        "for i, n in enumerate(n_samples):\n",
        "  for j in range(n):\n",
        "    file_list.append(\"{}_{}.jpg\".format(i, j+1))\n",
        "random.shuffle(file_list)\n",
        "train_list = file_list[:int(split * len(file_list))]\n",
        "val_list = file_list[int(split * len(file_list)):]"
      ],
      "outputs": [],
      "metadata": {
        "id": "rOuIuhHjjfJT"
      }
    },
    {
      "cell_type": "code",
      "execution_count": 29,
      "source": [
        "# dataset class\n",
        "class WACV2016(Dataset):\n",
        "    def __init__(self, path, file_list):\n",
        "        super().__init__()\n",
        "        self.trans = transforms.Compose([\n",
        "            transforms.RandomHorizontalFlip(),\n",
        "            transforms.ToTensor()\n",
        "        ])\n",
        "        self.path = path\n",
        "        self.file_names = file_list\n",
        "\n",
        "    def __len__(self):\n",
        "        return len(self.file_names)\n",
        "\n",
        "    def __getitem__(self, index):\n",
        "        img = Image.open(os.path.join(self.path, self.file_names[index]))\n",
        "        label = int(self.file_names[index].split(\".\")[0].split(\"_\")[0])\n",
        "        return self.trans(img), label"
      ],
      "outputs": [],
      "metadata": {
        "id": "1-hDScSmbiaF"
      }
    },
    {
      "cell_type": "code",
      "execution_count": 30,
      "source": [
        "# ...\n",
        "train_set = WACV2016(path_dest, train_list)\n",
        "train_loader = DataLoader(train_set, batch_size=batch_size, shuffle=True)\n",
        "val_set = WACV2016(path_dest, val_list)\n",
        "val_loader = DataLoader(val_set, batch_size=1, shuffle=False)\n",
        "\n",
        "model = DenseNet121(classes=3)\n",
        "model = model.cuda()\n",
        "citeration = nn.CrossEntropyLoss()\n",
        "optimizer = optim.Adam(model.parameters(), lr=1e-5)"
      ],
      "outputs": [],
      "metadata": {
        "id": "pGnmUF3GblRa"
      }
    },
    {
      "cell_type": "code",
      "execution_count": 31,
      "source": [
        "# training\n",
        "model.train()\n",
        "for epoch in range(10):\n",
        "    train_loss = 0\n",
        "    train_acc = 0\n",
        "    for i, (image, label) in enumerate(train_loader):\n",
        "        image, label = image.cuda(), label.cuda()\n",
        "        optimizer.zero_grad()\n",
        "        # forward\n",
        "        output = model(image)\n",
        "        loss = citeration(output, label.long())\n",
        "        pred = torch.torch.argmax(output, 1)\n",
        "        acc = (pred == label).sum() / batch_size\n",
        "        train_loss += loss.item()\n",
        "        train_acc += acc.cpu().numpy()\n",
        "        # backward\n",
        "        loss.backward()\n",
        "        optimizer.step()\n",
        "    print(\"Epoch: {}  Loss: {}  Acc: {}\".format(\n",
        "        epoch+1, train_loss/len(train_loader), train_acc/len(train_loader)))"
      ],
      "outputs": [
        {
          "output_type": "stream",
          "name": "stdout",
          "text": [
            "Epoch: 1  Loss: 0.952856885937025  Acc: 0.5318396226415094\n",
            "Epoch: 2  Loss: 0.8455120808673355  Acc: 0.625\n",
            "Epoch: 3  Loss: 0.8040886037754562  Acc: 0.6474056603773585\n",
            "Epoch: 4  Loss: 0.7735283408524856  Acc: 0.6733490566037735\n",
            "Epoch: 5  Loss: 0.7621158192742545  Acc: 0.6674528301886793\n",
            "Epoch: 6  Loss: 0.7200316685550617  Acc: 0.6816037735849056\n",
            "Epoch: 7  Loss: 0.7098695635795593  Acc: 0.6863207547169812\n",
            "Epoch: 8  Loss: 0.6856023944773764  Acc: 0.7004716981132075\n",
            "Epoch: 9  Loss: 0.6696524074617421  Acc: 0.7063679245283019\n",
            "Epoch: 10  Loss: 0.6641696556559149  Acc: 0.7063679245283019\n"
          ]
        }
      ],
      "metadata": {
        "colab": {
          "base_uri": "https://localhost:8080/"
        },
        "id": "ctfVwgApboLl",
        "outputId": "3592d496-ac96-40e3-b685-7a5c64f3d84e"
      }
    },
    {
      "cell_type": "code",
      "execution_count": 32,
      "source": [
        "# validation\n",
        "model.eval()\n",
        "y_pred = []\n",
        "y_true = []\n",
        "for i, (image, label) in enumerate(val_loader):\n",
        "        image, label = image.cuda(), label.cuda()\n",
        "        # forward\n",
        "        output = model(image)\n",
        "        pred = torch.argmax(output, 1).unsqueeze(0)\n",
        "        y_pred.append(int(pred.cpu().numpy()))\n",
        "        y_true.append(int(label.unsqueeze(0).cpu().numpy()))\n",
        "print(y_pred)\n",
        "print(y_true)"
      ],
      "outputs": [
        {
          "output_type": "stream",
          "name": "stdout",
          "text": [
            "[1, 1, 2, 1, 2, 2, 1, 2, 0, 1, 2, 2, 2, 1, 1, 2, 1, 2, 2, 1, 1, 1, 2, 2, 2, 1, 1, 2, 1, 2, 1, 2, 2, 1, 2, 2, 2, 1, 1, 2, 1, 1, 1, 2, 0, 2, 0, 2, 2, 2, 2, 1, 0, 2, 1, 2, 2, 1, 1, 1, 2, 1, 1, 1, 2, 1, 1, 2, 2, 0, 0, 2, 1, 2, 0, 2, 2, 1, 1, 1, 2, 0, 1, 1, 2, 2, 1, 0, 2, 1, 2, 0, 2, 2, 1, 0, 1, 1, 2, 1, 0, 1, 2, 2, 1, 1, 0, 1, 1, 2, 2, 2, 0, 1, 2, 2, 2, 1, 1, 1, 0, 2, 1, 2, 0, 2, 1, 2, 0, 1, 1, 1, 2, 0, 1, 1, 2, 1, 2, 1, 1, 0, 1, 1, 2, 1, 1, 0, 2, 0, 1, 0, 0, 1, 2, 2, 1, 0, 0, 2, 2, 0, 2, 1, 1, 1, 1, 2, 1, 2, 2, 1, 1, 1, 2, 2, 0, 2, 1, 0, 2, 2, 2, 2, 1, 1, 2, 0, 1, 1, 1, 1, 2, 1, 0, 2, 0, 2, 1, 2, 2, 0, 1, 1, 1, 1, 1, 1, 2, 2, 0]\n",
            "[1, 2, 2, 0, 2, 2, 1, 2, 0, 0, 1, 2, 2, 1, 1, 1, 1, 2, 0, 1, 1, 2, 2, 1, 2, 1, 1, 1, 2, 2, 1, 2, 2, 2, 1, 2, 1, 2, 1, 1, 2, 1, 0, 2, 0, 1, 0, 1, 2, 1, 2, 2, 1, 1, 0, 2, 2, 1, 1, 0, 1, 1, 2, 1, 2, 2, 1, 2, 2, 0, 0, 2, 1, 2, 0, 1, 1, 1, 1, 0, 1, 1, 0, 1, 2, 2, 1, 0, 1, 1, 1, 0, 2, 2, 2, 0, 2, 1, 2, 2, 0, 2, 2, 2, 1, 2, 0, 2, 2, 2, 1, 2, 0, 1, 2, 2, 1, 2, 1, 1, 0, 2, 2, 2, 0, 1, 1, 2, 0, 1, 1, 0, 2, 0, 2, 1, 2, 1, 1, 1, 1, 0, 1, 2, 1, 0, 0, 0, 2, 0, 1, 0, 0, 2, 1, 1, 2, 1, 0, 2, 2, 0, 2, 2, 0, 1, 1, 2, 1, 2, 2, 1, 1, 2, 2, 2, 0, 2, 1, 0, 2, 0, 2, 2, 1, 2, 2, 0, 1, 2, 1, 1, 2, 1, 0, 1, 0, 2, 1, 2, 1, 0, 1, 1, 1, 0, 2, 1, 2, 2, 0]\n"
          ]
        }
      ],
      "metadata": {
        "colab": {
          "base_uri": "https://localhost:8080/"
        },
        "id": "A3tAIOu_0LTK",
        "outputId": "bd80d698-dc40-4442-9772-e2d4b3ad929d"
      }
    },
    {
      "cell_type": "code",
      "execution_count": 33,
      "source": [
        "cm = pycm.ConfusionMatrix(y_true, y_pred, digit=5)"
      ],
      "outputs": [],
      "metadata": {
        "id": "RSFt3-Wync2g"
      }
    },
    {
      "cell_type": "code",
      "execution_count": 34,
      "source": [
        "cm.ACC"
      ],
      "outputs": [
        {
          "output_type": "execute_result",
          "data": {
            "text/plain": [
              "{0: 0.919431279620853, 1: 0.6777251184834123, 2: 0.7393364928909952}"
            ]
          },
          "metadata": {
            "tags": []
          },
          "execution_count": 34
        }
      ],
      "metadata": {
        "colab": {
          "base_uri": "https://localhost:8080/"
        },
        "id": "-DGEuUgPnrT0",
        "outputId": "6d3e639d-a9bd-41f3-a348-0cf613d59ad8"
      }
    },
    {
      "cell_type": "code",
      "execution_count": 35,
      "source": [
        "cm.GI"
      ],
      "outputs": [
        {
          "output_type": "execute_result",
          "data": {
            "text/plain": [
              "{0: 0.6638541099618944, 1: 0.34401588201928535, 2: 0.4601307189542485}"
            ]
          },
          "metadata": {
            "tags": []
          },
          "execution_count": 35
        }
      ],
      "metadata": {
        "colab": {
          "base_uri": "https://localhost:8080/"
        },
        "id": "gEuJUofMns-6",
        "outputId": "56639fb3-15c1-4279-be75-207ab3cabd24"
      }
    },
    {
      "cell_type": "code",
      "execution_count": 36,
      "source": [
        "cm.AUC"
      ],
      "outputs": [
        {
          "output_type": "execute_result",
          "data": {
            "text/plain": [
              "{0: 0.8319270549809472, 1: 0.6720079410096427, 2: 0.7300653594771243}"
            ]
          },
          "metadata": {
            "tags": []
          },
          "execution_count": 36
        }
      ],
      "metadata": {
        "colab": {
          "base_uri": "https://localhost:8080/"
        },
        "id": "Mt8nE0hsyfLe",
        "outputId": "945cf2a6-6984-4aab-8d4b-fec8f5624442"
      }
    },
    {
      "cell_type": "code",
      "execution_count": 37,
      "source": [
        "cm.AGF"
      ],
      "outputs": [
        {
          "output_type": "execute_result",
          "data": {
            "text/plain": [
              "{0: 0.81824804270999, 1: 0.6850572412936589, 2: 0.7299701021464845}"
            ]
          },
          "metadata": {
            "tags": []
          },
          "execution_count": 37
        }
      ],
      "metadata": {
        "id": "etvWAYdNnw6a",
        "colab": {
          "base_uri": "https://localhost:8080/"
        },
        "outputId": "801a2243-309c-4645-82dc-908f4e601d62"
      }
    }
  ]
}